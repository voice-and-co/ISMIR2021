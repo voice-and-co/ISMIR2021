{
 "cells": [
  {
   "cell_type": "code",
   "execution_count": 5,
   "metadata": {},
   "outputs": [
    {
     "name": "stdout",
     "output_type": "stream",
     "text": [
      "['H', 'MPC', 'MC', 'RO', 'RPC']\n"
     ]
    },
    {
     "data": {
      "image/png": "[encoded data removed]",
      "text/plain": [
       "<Figure size 432x288 with 1 Axes>"
      ]
     },
     "metadata": {
      "needs_background": "light"
     },
     "output_type": "display_data"
    },
    {
     "name": "stdout",
     "output_type": "stream",
     "text": [
      "['H', 'MPC', 'MC', 'RO', 'RPC']\n"
     ]
    },
    {
     "data": {
      "image/png": "[encoded data removed]",
      "text/plain": [
       "<Figure size 432x288 with 1 Axes>"
      ]
     },
     "metadata": {
      "needs_background": "light"
     },
     "output_type": "display_data"
    }
   ],
   "source": [
    "from sklearn.model_selection import train_test_split\n",
    "import sys\n",
    "sys.path.append('../.')\n",
    "from analysis.visualize_results import get_all_features\n",
    "import seaborn as sn\n",
    "import matplotlib.pyplot as plt\n",
    "import pandas as pd\n",
    "from scipy.cluster import hierarchy as hc\n",
    "import os\n",
    "\n",
    "\n",
    "def correlation_matrix(corpus):\n",
    "    # The correlation matrix shown in the paper\n",
    "    X, y, X_labels, y_labels = get_all_features(corpus)\n",
    "\n",
    "    data = {x_label:x for x, x_label in zip(X.transpose(), X_labels)}\n",
    "    df = pd.DataFrame(data)\n",
    "    \n",
    "\n",
    "    corr = 1 - df.corr() \n",
    "\n",
    "    corr_condensed = hc.distance.squareform(corr) # convert to condensed\n",
    "    z = hc.linkage(corr_condensed, method='centroid')\n",
    "    dendrogram = hc.dendrogram(z, labels=corr.columns, leaf_rotation=45)\n",
    "    plt.savefig(os.path.join('..', 'output_figs', corpus + '_cluster.pdf'), bbox_inches='tight')\n",
    "    plt.show()\n",
    "\n",
    "correlation_matrix('classical')\n",
    "correlation_matrix('modern')"
   ]
  },
  {
   "cell_type": "code",
   "execution_count": null,
   "metadata": {},
   "outputs": [],
   "source": []
  },
  {
   "cell_type": "code",
   "execution_count": null,
   "metadata": {
    "pycharm": {
     "name": "#%%\n"
    }
   },
   "outputs": [],
   "source": []
  }
 ],
 "metadata": {
  "kernelspec": {
   "display_name": "Python 3",
   "language": "python",
   "name": "python3"
  },
  "language_info": {
   "codemirror_mode": {
    "name": "ipython",
    "version": 3
   },
   "file_extension": ".py",
   "mimetype": "text/x-python",
   "name": "python",
   "nbconvert_exporter": "python",
   "pygments_lexer": "ipython3",
   "version": "3.8.5"
  }
 },
 "nbformat": 4,
 "nbformat_minor": 1
}